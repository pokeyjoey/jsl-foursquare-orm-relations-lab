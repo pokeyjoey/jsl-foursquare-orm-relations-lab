{
 "cells": [
  {
   "cell_type": "markdown",
   "metadata": {},
   "source": [
    "# Foursquare Relations Lab"
   ]
  },
  {
   "cell_type": "markdown",
   "metadata": {},
   "source": [
    "### Introduction"
   ]
  },
  {
   "cell_type": "markdown",
   "metadata": {},
   "source": [
    "In this lesson, we'll use our knowledge of writing relationship methods to write relationship methods for foursquare domain.  Before getting started with the code, it's good to diagram out the relationships between tables.  \n",
    "\n",
    "In this lab we have the following classes: \n",
    "\n",
    "* Venue, Location, Zipcode, City, and State, Category\n",
    "\n",
    "We'll write our relationship methods for the respective classes."
   ]
  },
  {
   "cell_type": "markdown",
   "metadata": {},
   "source": [
    "### Object Relations"
   ]
  },
  {
   "cell_type": "markdown",
   "metadata": {},
   "source": [
    "To begin, let's start with the `hasone` and `hasmany` relations, and then we'll move onto the many to many relationship."
   ]
  },
  {
   "cell_type": "markdown",
   "metadata": {},
   "source": [
    "Add functions that builds methods for the following relationships.\n",
    "\n",
    "* Venue\n",
    "    * has one location\n",
    "    \n",
    "* Location\n",
    "    * has one venue\n",
    "    * has one zipcode\n",
    "    \n",
    "* Zipcode\n",
    "    * has one city \n",
    "    * has many locations\n",
    "\n",
    "* City \n",
    "  * has one state\n",
    "  * has many zipcodes\n",
    "\n",
    "* State\n",
    "    * has many cities"
   ]
  },
  {
   "cell_type": "markdown",
   "metadata": {},
   "source": [
    "### Many to Many Relations"
   ]
  },
  {
   "cell_type": "markdown",
   "metadata": {},
   "source": [
    "Ok, now it's time to move onto the many to many relationship.  We only have one: a venue has many catgeories and a category has many venues.  Write methods to perform each query.  "
   ]
  },
  {
   "cell_type": "markdown",
   "metadata": {},
   "source": [
    "* Venue \n",
    "    * has many categories\n",
    "* Category \n",
    "    * has many venues"
   ]
  },
  {
   "cell_type": "markdown",
   "metadata": {},
   "source": [
    "Ok, at this point we have a fairly flushed out codebase.  Nice job!"
   ]
  },
  {
   "cell_type": "markdown",
   "metadata": {},
   "source": [
    "### Resources\n",
    "\n",
    "[Pytest](https://xvrdm.github.io/2017/07/03/testing-flask-sqlalchemy-database-with-pytest/)"
   ]
  },
  {
   "cell_type": "markdown",
   "metadata": {},
   "source": [
    "[Pytest fixtures](https://docs.pytest.org/en/stable/fixture.html)"
   ]
  }
 ],
 "metadata": {
  "kernelspec": {
   "display_name": "Python 3",
   "language": "python",
   "name": "python3"
  },
  "language_info": {
   "codemirror_mode": {
    "name": "ipython",
    "version": 3
   },
   "file_extension": ".py",
   "mimetype": "text/x-python",
   "name": "python",
   "nbconvert_exporter": "python",
   "pygments_lexer": "ipython3",
   "version": "3.8.3"
  }
 },
 "nbformat": 4,
 "nbformat_minor": 4
}
